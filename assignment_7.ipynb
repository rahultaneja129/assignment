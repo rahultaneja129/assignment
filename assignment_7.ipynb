{
 "cells": [
  {
   "cell_type": "code",
   "execution_count": 2,
   "metadata": {},
   "outputs": [
    {
     "name": "stdout",
     "output_type": "stream",
     "text": [
      "P(A): 0.3\n",
      "P(A): 0.16\n",
      "P(A/B): 0.05\n"
     ]
    },
    {
     "data": {
      "text/plain": [
       "0.02666666666666667"
      ]
     },
     "execution_count": 2,
     "metadata": {},
     "output_type": "execute_result"
    }
   ],
   "source": [
    "#Question:1\n",
    "def probab(A,B,C):\n",
    "    print(\"P(A): %s\" %(A))\n",
    "    print(\"P(A): %s\" %(B))\n",
    "    print(\"P(A/B): %s\" %(C))\n",
    "    cond_probab=(C*B)/A\n",
    "    return cond_probab\n",
    "probab(.30,.16,.05)"
   ]
  },
  {
   "cell_type": "code",
   "execution_count": 5,
   "metadata": {},
   "outputs": [
    {
     "name": "stdout",
     "output_type": "stream",
     "text": [
      "0.53164556962\n"
     ]
    }
   ],
   "source": [
    "#question:2\n",
    "#bag 1 cotains 4 white and 6 black balls\n",
    "#bag 2 cotains 4 white and 3 black balls\n",
    "bag1=1.0/2 #probability of select a bag1\n",
    "bag2=1.0/2 #probability of select a bag2\n",
    "black1=6.0/10 #probability of selecting black ball from bag1\n",
    "black2=3.7/7 #probability of selecting black ball from bag2\n",
    "probab1=(bag1*black1)/((bag1*black1)+(bag2*black2))\n",
    "print(probab1)"
   ]
  },
  {
   "cell_type": "code",
   "execution_count": 7,
   "metadata": {},
   "outputs": [
    {
     "name": "stdout",
     "output_type": "stream",
     "text": [
      "0.285714285714\n"
     ]
    }
   ],
   "source": [
    "#Question:3\n",
    "truth=2.0/3\n",
    "lie=1.0/3\n",
    "\n",
    "gtng4=1.0/6\n",
    "ngtng4=5.0/6\n",
    "probab =(truth*gtng4)/((truth*gtng4)+(lie*ngtng4))\n",
    "print(probab)"
   ]
  },
  {
   "cell_type": "code",
   "execution_count": null,
   "metadata": {},
   "outputs": [],
   "source": []
  }
 ],
 "metadata": {
  "kernelspec": {
   "display_name": "Python 2",
   "language": "python",
   "name": "python2"
  },
  "language_info": {
   "codemirror_mode": {
    "name": "ipython",
    "version": 2
   },
   "file_extension": ".py",
   "mimetype": "text/x-python",
   "name": "python",
   "nbconvert_exporter": "python",
   "pygments_lexer": "ipython2",
   "version": "2.7.14"
  }
 },
 "nbformat": 4,
 "nbformat_minor": 2
}
